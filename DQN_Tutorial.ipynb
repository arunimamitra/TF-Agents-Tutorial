{
  "cells": [
    {
      "cell_type": "markdown",
      "metadata": {
        "id": "view-in-github",
        "colab_type": "text"
      },
      "source": [
        "<a href=\"https://colab.research.google.com/github/arunimamitra/TF-Agents-Tutorial/blob/main/DQN_Tutorial.ipynb\" target=\"_parent\"><img src=\"https://colab.research.google.com/assets/colab-badge.svg\" alt=\"Open In Colab\"/></a>"
      ]
    },
    {
      "cell_type": "code",
      "execution_count": 1,
      "metadata": {
        "id": "KEHR2Ui-lo8O",
        "colab": {
          "base_uri": "https://localhost:8080/"
        },
        "outputId": "f18da737-9866-4a4c-bf4a-b08b9a7e1cf1"
      },
      "outputs": [
        {
          "output_type": "stream",
          "name": "stdout",
          "text": [
            "Get:1 http://security.ubuntu.com/ubuntu focal-security InRelease [114 kB]\n",
            "Hit:2 http://archive.ubuntu.com/ubuntu focal InRelease\n",
            "Get:3 http://archive.ubuntu.com/ubuntu focal-updates InRelease [114 kB]\n",
            "Get:4 https://cloud.r-project.org/bin/linux/ubuntu focal-cran40/ InRelease [3,622 B]\n",
            "Hit:5 http://ppa.launchpad.net/c2d4u.team/c2d4u4.0+/ubuntu focal InRelease\n",
            "Get:6 https://developer.download.nvidia.com/compute/cuda/repos/ubuntu2004/x86_64  InRelease [1,581 B]\n",
            "Get:7 http://archive.ubuntu.com/ubuntu focal-backports InRelease [108 kB]\n",
            "Hit:8 http://ppa.launchpad.net/cran/libgit2/ubuntu focal InRelease\n",
            "Hit:9 http://ppa.launchpad.net/deadsnakes/ppa/ubuntu focal InRelease\n",
            "Hit:10 http://ppa.launchpad.net/graphics-drivers/ppa/ubuntu focal InRelease\n",
            "Hit:11 http://ppa.launchpad.net/ubuntugis/ppa/ubuntu focal InRelease\n",
            "Get:12 http://security.ubuntu.com/ubuntu focal-security/main amd64 Packages [2,674 kB]\n",
            "Get:13 http://security.ubuntu.com/ubuntu focal-security/universe amd64 Packages [1,045 kB]\n",
            "Get:14 https://developer.download.nvidia.com/compute/cuda/repos/ubuntu2004/x86_64  Packages [1,009 kB]\n",
            "Get:15 http://archive.ubuntu.com/ubuntu focal-updates/universe amd64 Packages [1,341 kB]\n",
            "Get:16 http://archive.ubuntu.com/ubuntu focal-updates/main amd64 Packages [3,157 kB]\n",
            "Fetched 9,567 kB in 5s (1,887 kB/s)\n",
            "Reading package lists... Done\n",
            "Reading package lists... Done\n",
            "Building dependency tree       \n",
            "Reading state information... Done\n",
            "ffmpeg is already the newest version (7:4.2.7-0ubuntu0.1).\n",
            "The following additional packages will be installed:\n",
            "  freeglut3 libfontenc1 libxfont2 libxkbfile1 x11-xkb-utils xfonts-base\n",
            "  xfonts-encodings xfonts-utils xserver-common\n",
            "The following NEW packages will be installed:\n",
            "  freeglut3 freeglut3-dev libfontenc1 libxfont2 libxkbfile1 x11-xkb-utils\n",
            "  xfonts-base xfonts-encodings xfonts-utils xserver-common xvfb\n",
            "0 upgraded, 11 newly installed, 0 to remove and 27 not upgraded.\n",
            "Need to get 7,895 kB of archives.\n",
            "After this operation, 13.0 MB of additional disk space will be used.\n",
            "Get:1 http://archive.ubuntu.com/ubuntu focal/universe amd64 freeglut3 amd64 2.8.1-3 [73.6 kB]\n",
            "Get:2 http://archive.ubuntu.com/ubuntu focal/universe amd64 freeglut3-dev amd64 2.8.1-3 [124 kB]\n",
            "Get:3 http://archive.ubuntu.com/ubuntu focal/main amd64 libfontenc1 amd64 1:1.1.4-0ubuntu1 [14.0 kB]\n",
            "Get:4 http://archive.ubuntu.com/ubuntu focal/main amd64 libxfont2 amd64 1:2.0.3-1 [91.7 kB]\n",
            "Get:5 http://archive.ubuntu.com/ubuntu focal/main amd64 libxkbfile1 amd64 1:1.1.0-1 [65.3 kB]\n",
            "Get:6 http://archive.ubuntu.com/ubuntu focal/main amd64 x11-xkb-utils amd64 7.7+5 [158 kB]\n",
            "Get:7 http://archive.ubuntu.com/ubuntu focal/main amd64 xfonts-encodings all 1:1.0.5-0ubuntu1 [573 kB]\n",
            "Get:8 http://archive.ubuntu.com/ubuntu focal/main amd64 xfonts-utils amd64 1:7.7+6 [91.5 kB]\n",
            "Get:9 http://archive.ubuntu.com/ubuntu focal/main amd64 xfonts-base all 1:1.0.5 [5,896 kB]\n",
            "Get:10 http://archive.ubuntu.com/ubuntu focal-updates/main amd64 xserver-common all 2:1.20.13-1ubuntu1~20.04.8 [27.2 kB]\n",
            "Get:11 http://archive.ubuntu.com/ubuntu focal-updates/universe amd64 xvfb amd64 2:1.20.13-1ubuntu1~20.04.8 [780 kB]\n",
            "Fetched 7,895 kB in 0s (17.6 MB/s)\n",
            "debconf: unable to initialize frontend: Dialog\n",
            "debconf: (No usable dialog-like program is installed, so the dialog based frontend cannot be used. at /usr/share/perl5/Debconf/FrontEnd/Dialog.pm line 76, <> line 11.)\n",
            "debconf: falling back to frontend: Readline\n",
            "debconf: unable to initialize frontend: Readline\n",
            "debconf: (This frontend requires a controlling tty.)\n",
            "debconf: falling back to frontend: Teletype\n",
            "dpkg-preconfigure: unable to re-open stdin: \n",
            "Selecting previously unselected package freeglut3:amd64.\n",
            "(Reading database ... 122518 files and directories currently installed.)\n",
            "Preparing to unpack .../00-freeglut3_2.8.1-3_amd64.deb ...\n",
            "Unpacking freeglut3:amd64 (2.8.1-3) ...\n",
            "Selecting previously unselected package freeglut3-dev:amd64.\n",
            "Preparing to unpack .../01-freeglut3-dev_2.8.1-3_amd64.deb ...\n",
            "Unpacking freeglut3-dev:amd64 (2.8.1-3) ...\n",
            "Selecting previously unselected package libfontenc1:amd64.\n",
            "Preparing to unpack .../02-libfontenc1_1%3a1.1.4-0ubuntu1_amd64.deb ...\n",
            "Unpacking libfontenc1:amd64 (1:1.1.4-0ubuntu1) ...\n",
            "Selecting previously unselected package libxfont2:amd64.\n",
            "Preparing to unpack .../03-libxfont2_1%3a2.0.3-1_amd64.deb ...\n",
            "Unpacking libxfont2:amd64 (1:2.0.3-1) ...\n",
            "Selecting previously unselected package libxkbfile1:amd64.\n",
            "Preparing to unpack .../04-libxkbfile1_1%3a1.1.0-1_amd64.deb ...\n",
            "Unpacking libxkbfile1:amd64 (1:1.1.0-1) ...\n",
            "Selecting previously unselected package x11-xkb-utils.\n",
            "Preparing to unpack .../05-x11-xkb-utils_7.7+5_amd64.deb ...\n",
            "Unpacking x11-xkb-utils (7.7+5) ...\n",
            "Selecting previously unselected package xfonts-encodings.\n",
            "Preparing to unpack .../06-xfonts-encodings_1%3a1.0.5-0ubuntu1_all.deb ...\n",
            "Unpacking xfonts-encodings (1:1.0.5-0ubuntu1) ...\n",
            "Selecting previously unselected package xfonts-utils.\n",
            "Preparing to unpack .../07-xfonts-utils_1%3a7.7+6_amd64.deb ...\n",
            "Unpacking xfonts-utils (1:7.7+6) ...\n",
            "Selecting previously unselected package xfonts-base.\n",
            "Preparing to unpack .../08-xfonts-base_1%3a1.0.5_all.deb ...\n",
            "Unpacking xfonts-base (1:1.0.5) ...\n",
            "Selecting previously unselected package xserver-common.\n",
            "Preparing to unpack .../09-xserver-common_2%3a1.20.13-1ubuntu1~20.04.8_all.deb ...\n",
            "Unpacking xserver-common (2:1.20.13-1ubuntu1~20.04.8) ...\n",
            "Selecting previously unselected package xvfb.\n",
            "Preparing to unpack .../10-xvfb_2%3a1.20.13-1ubuntu1~20.04.8_amd64.deb ...\n",
            "Unpacking xvfb (2:1.20.13-1ubuntu1~20.04.8) ...\n",
            "Setting up freeglut3:amd64 (2.8.1-3) ...\n",
            "Setting up freeglut3-dev:amd64 (2.8.1-3) ...\n",
            "Setting up libfontenc1:amd64 (1:1.1.4-0ubuntu1) ...\n",
            "Setting up xfonts-encodings (1:1.0.5-0ubuntu1) ...\n",
            "Setting up libxkbfile1:amd64 (1:1.1.0-1) ...\n",
            "Setting up libxfont2:amd64 (1:2.0.3-1) ...\n",
            "Setting up x11-xkb-utils (7.7+5) ...\n",
            "Setting up xfonts-utils (1:7.7+6) ...\n",
            "Setting up xfonts-base (1:1.0.5) ...\n",
            "Setting up xserver-common (2:1.20.13-1ubuntu1~20.04.8) ...\n",
            "Setting up xvfb (2:1.20.13-1ubuntu1~20.04.8) ...\n",
            "Processing triggers for man-db (2.9.1-1) ...\n",
            "Processing triggers for fontconfig (2.13.1-2ubuntu3) ...\n",
            "Processing triggers for libc-bin (2.31-0ubuntu9.9) ...\n",
            "Looking in indexes: https://pypi.org/simple, https://us-python.pkg.dev/colab-wheels/public/simple/\n",
            "Collecting imageio==2.4.0\n",
            "  Downloading imageio-2.4.0.tar.gz (3.3 MB)\n",
            "\u001b[2K     \u001b[90m━━━━━━━━━━━━━━━━━━━━━━━━━━━━━━━━━━━━━━━━\u001b[0m \u001b[32m3.3/3.3 MB\u001b[0m \u001b[31m34.6 MB/s\u001b[0m eta \u001b[36m0:00:00\u001b[0m\n",
            "\u001b[?25h  Preparing metadata (setup.py) ... \u001b[?25l\u001b[?25hdone\n",
            "Requirement already satisfied: numpy in /usr/local/lib/python3.10/dist-packages (from imageio==2.4.0) (1.22.4)\n",
            "Requirement already satisfied: pillow in /usr/local/lib/python3.10/dist-packages (from imageio==2.4.0) (8.4.0)\n",
            "Building wheels for collected packages: imageio\n",
            "  Building wheel for imageio (setup.py) ... \u001b[?25l\u001b[?25hdone\n",
            "  Created wheel for imageio: filename=imageio-2.4.0-py3-none-any.whl size=3303893 sha256=4ac37951a4127237459b57cd4f373e98285058a896a96fd79f40a1f46732852c\n",
            "  Stored in directory: /root/.cache/pip/wheels/8a/d8/1c/eb9350a4bd3ae8e8814a2f7f9cc832fedad8ea5a926181d60d\n",
            "Successfully built imageio\n",
            "Installing collected packages: imageio\n",
            "  Attempting uninstall: imageio\n",
            "    Found existing installation: imageio 2.25.1\n",
            "    Uninstalling imageio-2.25.1:\n",
            "      Successfully uninstalled imageio-2.25.1\n",
            "\u001b[31mERROR: pip's dependency resolver does not currently take into account all the packages that are installed. This behaviour is the source of the following dependency conflicts.\n",
            "scikit-image 0.19.3 requires imageio>=2.4.1, but you have imageio 2.4.0 which is incompatible.\n",
            "moviepy 1.0.3 requires imageio<3.0,>=2.5; python_version >= \"3.4\", but you have imageio 2.4.0 which is incompatible.\u001b[0m\u001b[31m\n",
            "\u001b[0mSuccessfully installed imageio-2.4.0\n",
            "Looking in indexes: https://pypi.org/simple, https://us-python.pkg.dev/colab-wheels/public/simple/\n",
            "Collecting pyvirtualdisplay\n",
            "  Downloading PyVirtualDisplay-3.0-py3-none-any.whl (15 kB)\n",
            "Installing collected packages: pyvirtualdisplay\n",
            "Successfully installed pyvirtualdisplay-3.0\n",
            "Looking in indexes: https://pypi.org/simple, https://us-python.pkg.dev/colab-wheels/public/simple/\n",
            "Collecting tf-agents[reverb]\n",
            "  Downloading tf_agents-0.16.0-py3-none-any.whl (1.4 MB)\n",
            "\u001b[2K     \u001b[90m━━━━━━━━━━━━━━━━━━━━━━━━━━━━━━━━━━━━━━━━\u001b[0m \u001b[32m1.4/1.4 MB\u001b[0m \u001b[31m17.5 MB/s\u001b[0m eta \u001b[36m0:00:00\u001b[0m\n",
            "\u001b[?25hCollecting gym<=0.23.0,>=0.17.0\n",
            "  Downloading gym-0.23.0.tar.gz (624 kB)\n",
            "\u001b[2K     \u001b[90m━━━━━━━━━━━━━━━━━━━━━━━━━━━━━━━━━━━━━━\u001b[0m \u001b[32m624.4/624.4 kB\u001b[0m \u001b[31m55.3 MB/s\u001b[0m eta \u001b[36m0:00:00\u001b[0m\n",
            "\u001b[?25h  Installing build dependencies ... \u001b[?25l\u001b[?25hdone\n",
            "  Getting requirements to build wheel ... \u001b[?25l\u001b[?25hdone\n",
            "  Preparing metadata (pyproject.toml) ... \u001b[?25l\u001b[?25hdone\n",
            "Requirement already satisfied: cloudpickle>=1.3 in /usr/local/lib/python3.10/dist-packages (from tf-agents[reverb]) (2.2.1)\n",
            "Requirement already satisfied: protobuf>=3.11.3 in /usr/local/lib/python3.10/dist-packages (from tf-agents[reverb]) (3.20.3)\n",
            "Requirement already satisfied: pillow in /usr/local/lib/python3.10/dist-packages (from tf-agents[reverb]) (8.4.0)\n",
            "Requirement already satisfied: gin-config>=0.4.0 in /usr/local/lib/python3.10/dist-packages (from tf-agents[reverb]) (0.5.0)\n",
            "Requirement already satisfied: numpy>=1.19.0 in /usr/local/lib/python3.10/dist-packages (from tf-agents[reverb]) (1.22.4)\n",
            "Requirement already satisfied: absl-py>=0.6.1 in /usr/local/lib/python3.10/dist-packages (from tf-agents[reverb]) (1.4.0)\n",
            "Requirement already satisfied: wrapt>=1.11.1 in /usr/local/lib/python3.10/dist-packages (from tf-agents[reverb]) (1.14.1)\n",
            "Requirement already satisfied: six>=1.10.0 in /usr/local/lib/python3.10/dist-packages (from tf-agents[reverb]) (1.16.0)\n",
            "Collecting pygame==2.1.3\n",
            "  Downloading pygame-2.1.3-cp310-cp310-manylinux_2_17_x86_64.manylinux2014_x86_64.whl (13.7 MB)\n",
            "\u001b[2K     \u001b[90m━━━━━━━━━━━━━━━━━━━━━━━━━━━━━━━━━━━━━━━━\u001b[0m \u001b[32m13.7/13.7 MB\u001b[0m \u001b[31m69.3 MB/s\u001b[0m eta \u001b[36m0:00:00\u001b[0m\n",
            "\u001b[?25hRequirement already satisfied: typing-extensions>=3.7.4.3 in /usr/local/lib/python3.10/dist-packages (from tf-agents[reverb]) (4.5.0)\n",
            "Requirement already satisfied: tensorflow-probability~=0.19.0 in /usr/local/lib/python3.10/dist-packages (from tf-agents[reverb]) (0.19.0)\n",
            "Collecting rlds\n",
            "  Downloading rlds-0.1.8-py3-none-manylinux2010_x86_64.whl (48 kB)\n",
            "\u001b[2K     \u001b[90m━━━━━━━━━━━━━━━━━━━━━━━━━━━━━━━━━━━━━━━━\u001b[0m \u001b[32m48.4/48.4 kB\u001b[0m \u001b[31m6.4 MB/s\u001b[0m eta \u001b[36m0:00:00\u001b[0m\n",
            "\u001b[?25hCollecting dm-reverb~=0.11.0\n",
            "  Downloading dm_reverb-0.11.0-cp310-cp310-manylinux2014_x86_64.whl (6.3 MB)\n",
            "\u001b[2K     \u001b[90m━━━━━━━━━━━━━━━━━━━━━━━━━━━━━━━━━━━━━━━━\u001b[0m \u001b[32m6.3/6.3 MB\u001b[0m \u001b[31m83.9 MB/s\u001b[0m eta \u001b[36m0:00:00\u001b[0m\n",
            "\u001b[?25hRequirement already satisfied: tensorflow~=2.12.0 in /usr/local/lib/python3.10/dist-packages (from tf-agents[reverb]) (2.12.0)\n",
            "Requirement already satisfied: portpicker in /usr/local/lib/python3.10/dist-packages (from dm-reverb~=0.11.0->tf-agents[reverb]) (1.3.9)\n",
            "Requirement already satisfied: dm-tree in /usr/local/lib/python3.10/dist-packages (from dm-reverb~=0.11.0->tf-agents[reverb]) (0.1.8)\n",
            "Requirement already satisfied: gym-notices>=0.0.4 in /usr/local/lib/python3.10/dist-packages (from gym<=0.23.0,>=0.17.0->tf-agents[reverb]) (0.0.8)\n",
            "Requirement already satisfied: flatbuffers>=2.0 in /usr/local/lib/python3.10/dist-packages (from tensorflow~=2.12.0->tf-agents[reverb]) (23.3.3)\n",
            "Requirement already satisfied: jax>=0.3.15 in /usr/local/lib/python3.10/dist-packages (from tensorflow~=2.12.0->tf-agents[reverb]) (0.4.8)\n",
            "Requirement already satisfied: astunparse>=1.6.0 in /usr/local/lib/python3.10/dist-packages (from tensorflow~=2.12.0->tf-agents[reverb]) (1.6.3)\n",
            "Requirement already satisfied: termcolor>=1.1.0 in /usr/local/lib/python3.10/dist-packages (from tensorflow~=2.12.0->tf-agents[reverb]) (2.3.0)\n",
            "Requirement already satisfied: tensorflow-io-gcs-filesystem>=0.23.1 in /usr/local/lib/python3.10/dist-packages (from tensorflow~=2.12.0->tf-agents[reverb]) (0.32.0)\n",
            "Requirement already satisfied: h5py>=2.9.0 in /usr/local/lib/python3.10/dist-packages (from tensorflow~=2.12.0->tf-agents[reverb]) (3.8.0)\n",
            "Requirement already satisfied: opt-einsum>=2.3.2 in /usr/local/lib/python3.10/dist-packages (from tensorflow~=2.12.0->tf-agents[reverb]) (3.3.0)\n",
            "Requirement already satisfied: libclang>=13.0.0 in /usr/local/lib/python3.10/dist-packages (from tensorflow~=2.12.0->tf-agents[reverb]) (16.0.0)\n",
            "Requirement already satisfied: tensorflow-estimator<2.13,>=2.12.0 in /usr/local/lib/python3.10/dist-packages (from tensorflow~=2.12.0->tf-agents[reverb]) (2.12.0)\n",
            "Requirement already satisfied: keras<2.13,>=2.12.0 in /usr/local/lib/python3.10/dist-packages (from tensorflow~=2.12.0->tf-agents[reverb]) (2.12.0)\n",
            "Requirement already satisfied: tensorboard<2.13,>=2.12 in /usr/local/lib/python3.10/dist-packages (from tensorflow~=2.12.0->tf-agents[reverb]) (2.12.2)\n",
            "Requirement already satisfied: gast<=0.4.0,>=0.2.1 in /usr/local/lib/python3.10/dist-packages (from tensorflow~=2.12.0->tf-agents[reverb]) (0.4.0)\n",
            "Requirement already satisfied: grpcio<2.0,>=1.24.3 in /usr/local/lib/python3.10/dist-packages (from tensorflow~=2.12.0->tf-agents[reverb]) (1.54.0)\n",
            "Requirement already satisfied: setuptools in /usr/local/lib/python3.10/dist-packages (from tensorflow~=2.12.0->tf-agents[reverb]) (67.7.2)\n",
            "Requirement already satisfied: google-pasta>=0.1.1 in /usr/local/lib/python3.10/dist-packages (from tensorflow~=2.12.0->tf-agents[reverb]) (0.2.0)\n",
            "Requirement already satisfied: packaging in /usr/local/lib/python3.10/dist-packages (from tensorflow~=2.12.0->tf-agents[reverb]) (23.1)\n",
            "Requirement already satisfied: decorator in /usr/local/lib/python3.10/dist-packages (from tensorflow-probability~=0.19.0->tf-agents[reverb]) (4.4.2)\n",
            "Requirement already satisfied: wheel<1.0,>=0.23.0 in /usr/local/lib/python3.10/dist-packages (from astunparse>=1.6.0->tensorflow~=2.12.0->tf-agents[reverb]) (0.40.0)\n",
            "Requirement already satisfied: ml-dtypes>=0.0.3 in /usr/local/lib/python3.10/dist-packages (from jax>=0.3.15->tensorflow~=2.12.0->tf-agents[reverb]) (0.1.0)\n",
            "Requirement already satisfied: scipy>=1.7 in /usr/local/lib/python3.10/dist-packages (from jax>=0.3.15->tensorflow~=2.12.0->tf-agents[reverb]) (1.10.1)\n",
            "Requirement already satisfied: google-auth<3,>=1.6.3 in /usr/local/lib/python3.10/dist-packages (from tensorboard<2.13,>=2.12->tensorflow~=2.12.0->tf-agents[reverb]) (2.17.3)\n",
            "Requirement already satisfied: werkzeug>=1.0.1 in /usr/local/lib/python3.10/dist-packages (from tensorboard<2.13,>=2.12->tensorflow~=2.12.0->tf-agents[reverb]) (2.3.0)\n",
            "Requirement already satisfied: requests<3,>=2.21.0 in /usr/local/lib/python3.10/dist-packages (from tensorboard<2.13,>=2.12->tensorflow~=2.12.0->tf-agents[reverb]) (2.27.1)\n",
            "Requirement already satisfied: markdown>=2.6.8 in /usr/local/lib/python3.10/dist-packages (from tensorboard<2.13,>=2.12->tensorflow~=2.12.0->tf-agents[reverb]) (3.4.3)\n",
            "Requirement already satisfied: google-auth-oauthlib<1.1,>=0.5 in /usr/local/lib/python3.10/dist-packages (from tensorboard<2.13,>=2.12->tensorflow~=2.12.0->tf-agents[reverb]) (1.0.0)\n",
            "Requirement already satisfied: tensorboard-plugin-wit>=1.6.0 in /usr/local/lib/python3.10/dist-packages (from tensorboard<2.13,>=2.12->tensorflow~=2.12.0->tf-agents[reverb]) (1.8.1)\n",
            "Requirement already satisfied: tensorboard-data-server<0.8.0,>=0.7.0 in /usr/local/lib/python3.10/dist-packages (from tensorboard<2.13,>=2.12->tensorflow~=2.12.0->tf-agents[reverb]) (0.7.0)\n",
            "Requirement already satisfied: pyasn1-modules>=0.2.1 in /usr/local/lib/python3.10/dist-packages (from google-auth<3,>=1.6.3->tensorboard<2.13,>=2.12->tensorflow~=2.12.0->tf-agents[reverb]) (0.3.0)\n",
            "Requirement already satisfied: cachetools<6.0,>=2.0.0 in /usr/local/lib/python3.10/dist-packages (from google-auth<3,>=1.6.3->tensorboard<2.13,>=2.12->tensorflow~=2.12.0->tf-agents[reverb]) (5.3.0)\n",
            "Requirement already satisfied: rsa<5,>=3.1.4 in /usr/local/lib/python3.10/dist-packages (from google-auth<3,>=1.6.3->tensorboard<2.13,>=2.12->tensorflow~=2.12.0->tf-agents[reverb]) (4.9)\n",
            "Requirement already satisfied: requests-oauthlib>=0.7.0 in /usr/local/lib/python3.10/dist-packages (from google-auth-oauthlib<1.1,>=0.5->tensorboard<2.13,>=2.12->tensorflow~=2.12.0->tf-agents[reverb]) (1.3.1)\n",
            "Requirement already satisfied: certifi>=2017.4.17 in /usr/local/lib/python3.10/dist-packages (from requests<3,>=2.21.0->tensorboard<2.13,>=2.12->tensorflow~=2.12.0->tf-agents[reverb]) (2022.12.7)\n",
            "Requirement already satisfied: idna<4,>=2.5 in /usr/local/lib/python3.10/dist-packages (from requests<3,>=2.21.0->tensorboard<2.13,>=2.12->tensorflow~=2.12.0->tf-agents[reverb]) (3.4)\n",
            "Requirement already satisfied: charset-normalizer~=2.0.0 in /usr/local/lib/python3.10/dist-packages (from requests<3,>=2.21.0->tensorboard<2.13,>=2.12->tensorflow~=2.12.0->tf-agents[reverb]) (2.0.12)\n",
            "Requirement already satisfied: urllib3<1.27,>=1.21.1 in /usr/local/lib/python3.10/dist-packages (from requests<3,>=2.21.0->tensorboard<2.13,>=2.12->tensorflow~=2.12.0->tf-agents[reverb]) (1.26.15)\n",
            "Requirement already satisfied: MarkupSafe>=2.1.1 in /usr/local/lib/python3.10/dist-packages (from werkzeug>=1.0.1->tensorboard<2.13,>=2.12->tensorflow~=2.12.0->tf-agents[reverb]) (2.1.2)\n",
            "Requirement already satisfied: pyasn1<0.6.0,>=0.4.6 in /usr/local/lib/python3.10/dist-packages (from pyasn1-modules>=0.2.1->google-auth<3,>=1.6.3->tensorboard<2.13,>=2.12->tensorflow~=2.12.0->tf-agents[reverb]) (0.5.0)\n",
            "Requirement already satisfied: oauthlib>=3.0.0 in /usr/local/lib/python3.10/dist-packages (from requests-oauthlib>=0.7.0->google-auth-oauthlib<1.1,>=0.5->tensorboard<2.13,>=2.12->tensorflow~=2.12.0->tf-agents[reverb]) (3.2.2)\n",
            "Building wheels for collected packages: gym\n",
            "  Building wheel for gym (pyproject.toml) ... \u001b[?25l\u001b[?25hdone\n",
            "  Created wheel for gym: filename=gym-0.23.0-py3-none-any.whl size=697658 sha256=9b82e816886866c8c6283b9ce0761da48eafc99389c8388c1ff8ca993366549a\n",
            "  Stored in directory: /root/.cache/pip/wheels/3d/6f/b4/3991d4fae11d0ecb0754c11cc1b4e7745012850da4efaaf0b1\n",
            "Successfully built gym\n",
            "Installing collected packages: rlds, pygame, gym, dm-reverb, tf-agents\n",
            "  Attempting uninstall: pygame\n",
            "    Found existing installation: pygame 2.3.0\n",
            "    Uninstalling pygame-2.3.0:\n",
            "      Successfully uninstalled pygame-2.3.0\n",
            "  Attempting uninstall: gym\n",
            "    Found existing installation: gym 0.25.2\n",
            "    Uninstalling gym-0.25.2:\n",
            "      Successfully uninstalled gym-0.25.2\n",
            "Successfully installed dm-reverb-0.11.0 gym-0.23.0 pygame-2.1.3 rlds-0.1.8 tf-agents-0.16.0\n",
            "Looking in indexes: https://pypi.org/simple, https://us-python.pkg.dev/colab-wheels/public/simple/\n",
            "Collecting pyglet\n",
            "  Downloading pyglet-2.0.6-py3-none-any.whl (840 kB)\n",
            "\u001b[2K     \u001b[90m━━━━━━━━━━━━━━━━━━━━━━━━━━━━━━━━━━━━━━\u001b[0m \u001b[32m840.9/840.9 kB\u001b[0m \u001b[31m13.4 MB/s\u001b[0m eta \u001b[36m0:00:00\u001b[0m\n",
            "\u001b[?25hInstalling collected packages: pyglet\n",
            "Successfully installed pyglet-2.0.6\n"
          ]
        }
      ],
      "source": [
        "!sudo apt-get update\n",
        "!sudo apt-get install -y xvfb ffmpeg freeglut3-dev\n",
        "!pip install 'imageio==2.4.0'\n",
        "!pip install pyvirtualdisplay\n",
        "!pip install tf-agents[reverb]\n",
        "!pip install pyglet"
      ]
    },
    {
      "cell_type": "code",
      "execution_count": 3,
      "metadata": {
        "id": "sMitx5qSgJk1"
      },
      "outputs": [],
      "source": [
        "from __future__ import absolute_import, division, print_function\n",
        "\n",
        "import base64\n",
        "import imageio\n",
        "import IPython\n",
        "import matplotlib\n",
        "import matplotlib.pyplot as plt\n",
        "\n",
        "import PIL.Image\n",
        "import pyvirtualdisplay\n",
        "import reverb\n",
        "\n",
        "import tensorflow as tf\n",
        "\n",
        "from tf_agents.agents.dqn import dqn_agent\n",
        "from tf_agents.drivers import py_driver\n",
        "from tf_agents.environments import suite_gym\n",
        "from tf_agents.environments import tf_py_environment\n",
        "from tf_agents.eval import metric_utils\n",
        "from tf_agents.metrics import tf_metrics\n",
        "from tf_agents.networks import sequential\n",
        "from tf_agents.policies import py_tf_eager_policy\n",
        "from tf_agents.policies import random_tf_policy\n",
        "from tf_agents.replay_buffers import reverb_replay_buffer\n",
        "from tf_agents.replay_buffers import reverb_utils\n",
        "from tf_agents.trajectories import trajectory\n",
        "from tf_agents.specs import tensor_spec\n",
        "from tf_agents.utils import common"
      ]
    },
    {
      "cell_type": "code",
      "execution_count": 25,
      "metadata": {
        "id": "J6HsdS5GbSjd",
        "colab": {
          "base_uri": "https://localhost:8080/"
        },
        "outputId": "eb5706eb-fd15-4fe2-9628-ff715ac0edb6"
      },
      "outputs": [
        {
          "output_type": "stream",
          "name": "stdout",
          "text": [
            "Looking in indexes: https://pypi.org/simple, https://us-python.pkg.dev/colab-wheels/public/simple/\n",
            "Requirement already satisfied: numpy in /usr/local/lib/python3.10/dist-packages (1.24.3)\n"
          ]
        }
      ],
      "source": [
        "pip install numpy --upgrade\n"
      ]
    },
    {
      "cell_type": "code",
      "execution_count": 26,
      "metadata": {
        "id": "NspmzG4nP3b9",
        "colab": {
          "base_uri": "https://localhost:8080/",
          "height": 35
        },
        "outputId": "37179c53-2a56-48f8-89c1-93c360a5904c"
      },
      "outputs": [
        {
          "output_type": "execute_result",
          "data": {
            "text/plain": [
              "'2.12.0'"
            ],
            "application/vnd.google.colaboratory.intrinsic+json": {
              "type": "string"
            }
          },
          "metadata": {},
          "execution_count": 26
        }
      ],
      "source": [
        "import numpy as np\n",
        "display = pyvirtualdisplay.Display(visible=0, size=(1400, 900)).start()\n",
        "tf.version.VERSION"
      ]
    },
    {
      "cell_type": "code",
      "execution_count": 27,
      "metadata": {
        "id": "HC1kNrOsLSIZ"
      },
      "outputs": [],
      "source": [
        "num_iterations = 20000 # @param {type:\"integer\"}\n",
        "\n",
        "initial_collect_steps = 100  # @param {type:\"integer\"}\n",
        "collect_steps_per_iteration =   1# @param {type:\"integer\"}\n",
        "replay_buffer_max_length = 100000  # @param {type:\"integer\"}\n",
        "\n",
        "batch_size = 64  # @param {type:\"integer\"}\n",
        "learning_rate = 1e-3  # @param {type:\"number\"}\n",
        "log_interval = 200  # @param {type:\"integer\"}\n",
        "\n",
        "num_eval_episodes = 10  # @param {type:\"integer\"}\n",
        "eval_interval = 1000  # @param {type:\"integer\"}"
      ]
    },
    {
      "cell_type": "code",
      "execution_count": 28,
      "metadata": {
        "id": "pYEz-S9gEv2-"
      },
      "outputs": [],
      "source": [
        "env_name = 'CartPole-v0'\n",
        "env = suite_gym.load(env_name)\n",
        "\n",
        "env_name2 = 'CartPole-v1'\n",
        "env2 = suite_gym.load(env_name2)"
      ]
    },
    {
      "cell_type": "code",
      "execution_count": 29,
      "metadata": {
        "id": "RlO7WIQHu_7D",
        "colab": {
          "base_uri": "https://localhost:8080/",
          "height": 417
        },
        "outputId": "b6b132c5-c876-4733-b9b6-1d088cfaab9b"
      },
      "outputs": [
        {
          "output_type": "execute_result",
          "data": {
            "text/plain": [
              "<PIL.Image.Image image mode=RGB size=600x400 at 0x7F726CD92BC0>"
            ],
            "image/png": "[encoded data removed]"
          },
          "metadata": {},
          "execution_count": 29
        }
      ],
      "source": [
        "env.reset()\n",
        "PIL.Image.fromarray(env.render())"
      ]
    },
    {
      "cell_type": "code",
      "execution_count": 30,
      "metadata": {
        "id": "exDv57iHfwQV",
        "colab": {
          "base_uri": "https://localhost:8080/"
        },
        "outputId": "7b297222-02a0-447a-8a50-fc8fb1bc3325"
      },
      "outputs": [
        {
          "output_type": "stream",
          "name": "stdout",
          "text": [
            "Observation Spec:\n",
            "BoundedArraySpec(shape=(4,), dtype=dtype('float32'), name='observation', minimum=[-4.8000002e+00 -3.4028235e+38 -4.1887903e-01 -3.4028235e+38], maximum=[4.8000002e+00 3.4028235e+38 4.1887903e-01 3.4028235e+38])\n"
          ]
        }
      ],
      "source": [
        "print('Observation Spec:')\n",
        "print(env.time_step_spec().observation)"
      ]
    },
    {
      "cell_type": "code",
      "execution_count": 31,
      "metadata": {
        "id": "UxiSyCbBUQPi",
        "colab": {
          "base_uri": "https://localhost:8080/"
        },
        "outputId": "afbf0c2c-f979-4149-b420-4a21dbf6e401"
      },
      "outputs": [
        {
          "output_type": "stream",
          "name": "stdout",
          "text": [
            "Reward Spec:\n",
            "ArraySpec(shape=(), dtype=dtype('float32'), name='reward')\n"
          ]
        }
      ],
      "source": [
        "print('Reward Spec:')\n",
        "print(env.time_step_spec().reward)"
      ]
    },
    {
      "cell_type": "markdown",
      "metadata": {
        "id": "b_lHcIcqUaqB"
      },
      "source": [
        "The `action_spec()` method returns the shape, data types, and allowed values of valid actions."
      ]
    },
    {
      "cell_type": "code",
      "execution_count": 32,
      "metadata": {
        "id": "bttJ4uxZUQBr",
        "colab": {
          "base_uri": "https://localhost:8080/"
        },
        "outputId": "0e959bf7-b289-4a55-ffe3-50ff546407a6"
      },
      "outputs": [
        {
          "output_type": "stream",
          "name": "stdout",
          "text": [
            "Action Spec:\n",
            "BoundedArraySpec(shape=(), dtype=dtype('int64'), name='action', minimum=0, maximum=1)\n"
          ]
        }
      ],
      "source": [
        "print('Action Spec:')\n",
        "print(env.action_spec())"
      ]
    },
    {
      "cell_type": "code",
      "execution_count": 34,
      "metadata": {
        "id": "V2UGR5t_iZX-",
        "colab": {
          "base_uri": "https://localhost:8080/"
        },
        "outputId": "2b474a2b-7f46-47ba-c936-eb7d18e0c1e0"
      },
      "outputs": [
        {
          "output_type": "stream",
          "name": "stdout",
          "text": [
            "Time step:\n",
            "TimeStep(\n",
            "{'discount': array(1., dtype=float32),\n",
            " 'observation': array([ 0.02474826,  0.00457597,  0.01070357, -0.02793911], dtype=float32),\n",
            " 'reward': array(0., dtype=float32),\n",
            " 'step_type': array(0, dtype=int32)})\n",
            "Next time step:\n",
            "TimeStep(\n",
            "{'discount': array(1., dtype=float32),\n",
            " 'observation': array([ 0.02483978,  0.1995428 ,  0.01014479, -0.3172258 ], dtype=float32),\n",
            " 'reward': array(1., dtype=float32),\n",
            " 'step_type': array(1, dtype=int32)})\n"
          ]
        }
      ],
      "source": [
        "time_step = env.reset()\n",
        "print('Time step:')\n",
        "print(time_step)\n",
        "\n",
        "action = np.array(1, dtype=np.int32)\n",
        "\n",
        "next_time_step = env.step(action)\n",
        "print('Next time step:')\n",
        "print(next_time_step)"
      ]
    },
    {
      "cell_type": "code",
      "execution_count": 35,
      "metadata": {
        "id": "N7brXNIGWXjC"
      },
      "outputs": [],
      "source": [
        "train_py_env = suite_gym.load(env_name)\n",
        "eval_py_env = suite_gym.load(env_name)"
      ]
    },
    {
      "cell_type": "code",
      "execution_count": 36,
      "metadata": {
        "id": "Xp-Y4mD6eDhF"
      },
      "outputs": [],
      "source": [
        "train_env = tf_py_environment.TFPyEnvironment(train_py_env)\n",
        "eval_env = tf_py_environment.TFPyEnvironment(eval_py_env)"
      ]
    },
    {
      "cell_type": "code",
      "execution_count": 37,
      "metadata": {
        "id": "TgkdEPg_muzV"
      },
      "outputs": [],
      "source": [
        "fc_layer_params = (100, 50)\n",
        "action_tensor_spec = tensor_spec.from_spec(env.action_spec())\n",
        "num_actions = action_tensor_spec.maximum - action_tensor_spec.minimum + 1\n",
        "\n",
        "# Define a helper function to create Dense layers configured with the right\n",
        "# activation and kernel initializer.\n",
        "def dense_layer(num_units):\n",
        "  return tf.keras.layers.Dense(\n",
        "      num_units,\n",
        "      activation=tf.keras.activations.relu,\n",
        "      kernel_initializer=tf.keras.initializers.VarianceScaling(\n",
        "          scale=2.0, mode='fan_in', distribution='truncated_normal'))\n",
        "\n",
        "# QNetwork consists of a sequence of Dense layers followed by a dense layer\n",
        "# with `num_actions` units to generate one q_value per available action as\n",
        "# its output.\n",
        "dense_layers = [dense_layer(num_units) for num_units in fc_layer_params]\n",
        "q_values_layer = tf.keras.layers.Dense(\n",
        "    num_actions,\n",
        "    activation=None,\n",
        "    kernel_initializer=tf.keras.initializers.RandomUniform(\n",
        "        minval=-0.03, maxval=0.03),\n",
        "    bias_initializer=tf.keras.initializers.Constant(-0.2))\n",
        "q_net = sequential.Sequential(dense_layers + [q_values_layer])"
      ]
    },
    {
      "cell_type": "code",
      "execution_count": 38,
      "metadata": {
        "id": "jbY4yrjTEyc9"
      },
      "outputs": [],
      "source": [
        "optimizer = tf.keras.optimizers.Adam(learning_rate=learning_rate)\n",
        "\n",
        "train_step_counter = tf.Variable(0)\n",
        "\n",
        "agent = dqn_agent.DqnAgent(\n",
        "    train_env.time_step_spec(),\n",
        "    train_env.action_spec(),\n",
        "    q_network=q_net,\n",
        "    optimizer=optimizer,\n",
        "    td_errors_loss_fn=common.element_wise_squared_loss,\n",
        "    train_step_counter=train_step_counter)\n",
        "\n",
        "agent.initialize()"
      ]
    },
    {
      "cell_type": "code",
      "execution_count": 39,
      "metadata": {
        "id": "BwY7StuMkuV4"
      },
      "outputs": [],
      "source": [
        "eval_policy = agent.policy\n",
        "collect_policy = agent.collect_policy"
      ]
    },
    {
      "cell_type": "code",
      "execution_count": 40,
      "metadata": {
        "id": "HE37-UCIrE69"
      },
      "outputs": [],
      "source": [
        "random_policy = random_tf_policy.RandomTFPolicy(train_env.time_step_spec(),\n",
        "                                                train_env.action_spec())"
      ]
    },
    {
      "cell_type": "code",
      "execution_count": 41,
      "metadata": {
        "id": "5gCcpXswVAxk"
      },
      "outputs": [],
      "source": [
        "example_environment = tf_py_environment.TFPyEnvironment(\n",
        "    suite_gym.load('CartPole-v0'))"
      ]
    },
    {
      "cell_type": "code",
      "execution_count": 42,
      "metadata": {
        "id": "D4DHZtq3Ndis"
      },
      "outputs": [],
      "source": [
        "time_step = example_environment.reset()"
      ]
    },
    {
      "cell_type": "code",
      "execution_count": 43,
      "metadata": {
        "id": "PRFqAUzpNaAW",
        "colab": {
          "base_uri": "https://localhost:8080/"
        },
        "outputId": "b223712d-5c97-4a3f-db27-3fcbbf4619e9"
      },
      "outputs": [
        {
          "output_type": "execute_result",
          "data": {
            "text/plain": [
              "PolicyStep(action=<tf.Tensor: shape=(1,), dtype=int64, numpy=array([0])>, state=(), info=())"
            ]
          },
          "metadata": {},
          "execution_count": 43
        }
      ],
      "source": [
        "random_policy.action(time_step)"
      ]
    },
    {
      "cell_type": "code",
      "execution_count": 44,
      "metadata": {
        "id": "bitzHo5_UbXy"
      },
      "outputs": [],
      "source": [
        "def compute_avg_return(environment, policy, num_episodes=10):\n",
        "\n",
        "  total_return = 0.0\n",
        "  for _ in range(num_episodes):\n",
        "\n",
        "    time_step = environment.reset()\n",
        "    episode_return = 0.0\n",
        "\n",
        "    while not time_step.is_last():\n",
        "      action_step = policy.action(time_step)\n",
        "      time_step = environment.step(action_step.action)\n",
        "      episode_return += time_step.reward\n",
        "    total_return += episode_return\n",
        "\n",
        "  avg_return = total_return / num_episodes\n",
        "  return avg_return.numpy()[0]\n",
        "\n",
        "\n",
        "# See also the metrics module for standard implementations of different metrics.\n",
        "# https://github.com/tensorflow/agents/tree/master/tf_agents/metrics"
      ]
    },
    {
      "cell_type": "code",
      "execution_count": 31,
      "metadata": {
        "id": "9bgU6Q6BZ8Bp",
        "colab": {
          "base_uri": "https://localhost:8080/"
        },
        "outputId": "8076fc1b-4375-41f1-cbcb-93d4b6fd3a50"
      },
      "outputs": [
        {
          "output_type": "execute_result",
          "data": {
            "text/plain": [
              "22.3"
            ]
          },
          "metadata": {},
          "execution_count": 31
        }
      ],
      "source": [
        "compute_avg_return(eval_env, random_policy, num_eval_episodes)"
      ]
    },
    {
      "cell_type": "code",
      "execution_count": 45,
      "metadata": {
        "id": "vX2zGUWJGWAl"
      },
      "outputs": [],
      "source": [
        "table_name = 'uniform_table'\n",
        "replay_buffer_signature = tensor_spec.from_spec(\n",
        "      agent.collect_data_spec)\n",
        "replay_buffer_signature = tensor_spec.add_outer_dim(\n",
        "    replay_buffer_signature)\n",
        "\n",
        "table = reverb.Table(\n",
        "    table_name,\n",
        "    max_size=replay_buffer_max_length,\n",
        "    sampler=reverb.selectors.Uniform(),\n",
        "    remover=reverb.selectors.Fifo(),\n",
        "    rate_limiter=reverb.rate_limiters.MinSize(1),\n",
        "    signature=replay_buffer_signature)\n",
        "\n",
        "reverb_server = reverb.Server([table])\n",
        "\n",
        "replay_buffer = reverb_replay_buffer.ReverbReplayBuffer(\n",
        "    agent.collect_data_spec,\n",
        "    table_name=table_name,\n",
        "    sequence_length=2,\n",
        "    local_server=reverb_server)\n",
        "\n",
        "rb_observer = reverb_utils.ReverbAddTrajectoryObserver(\n",
        "  replay_buffer.py_client,\n",
        "  table_name,\n",
        "  sequence_length=2)"
      ]
    },
    {
      "cell_type": "code",
      "execution_count": 46,
      "metadata": {
        "id": "_IZ-3HcqgE1z",
        "colab": {
          "base_uri": "https://localhost:8080/"
        },
        "outputId": "2a168ce1-333a-4ba5-b561-57ae728722fe"
      },
      "outputs": [
        {
          "output_type": "execute_result",
          "data": {
            "text/plain": [
              "Trajectory(\n",
              "{'action': BoundedTensorSpec(shape=(), dtype=tf.int64, name='action', minimum=array(0), maximum=array(1)),\n",
              " 'discount': BoundedTensorSpec(shape=(), dtype=tf.float32, name='discount', minimum=array(0., dtype=float32), maximum=array(1., dtype=float32)),\n",
              " 'next_step_type': TensorSpec(shape=(), dtype=tf.int32, name='step_type'),\n",
              " 'observation': BoundedTensorSpec(shape=(4,), dtype=tf.float32, name='observation', minimum=array([-4.8000002e+00, -3.4028235e+38, -4.1887903e-01, -3.4028235e+38],\n",
              "      dtype=float32), maximum=array([4.8000002e+00, 3.4028235e+38, 4.1887903e-01, 3.4028235e+38],\n",
              "      dtype=float32)),\n",
              " 'policy_info': (),\n",
              " 'reward': TensorSpec(shape=(), dtype=tf.float32, name='reward'),\n",
              " 'step_type': TensorSpec(shape=(), dtype=tf.int32, name='step_type')})"
            ]
          },
          "metadata": {},
          "execution_count": 46
        }
      ],
      "source": [
        "agent.collect_data_spec"
      ]
    },
    {
      "cell_type": "code",
      "execution_count": 47,
      "metadata": {
        "id": "sy6g1tGcfRlw",
        "colab": {
          "base_uri": "https://localhost:8080/"
        },
        "outputId": "e1149351-3270-4cba-82b2-2d25e31ad672"
      },
      "outputs": [
        {
          "output_type": "execute_result",
          "data": {
            "text/plain": [
              "('step_type',\n",
              " 'observation',\n",
              " 'action',\n",
              " 'policy_info',\n",
              " 'next_step_type',\n",
              " 'reward',\n",
              " 'discount')"
            ]
          },
          "metadata": {},
          "execution_count": 47
        }
      ],
      "source": [
        "agent.collect_data_spec._fields"
      ]
    },
    {
      "cell_type": "code",
      "execution_count": 48,
      "metadata": {
        "id": "wr1KSAEGG4h9",
        "colab": {
          "base_uri": "https://localhost:8080/"
        },
        "outputId": "cc4a721c-af27-49da-ada9-a31d901fd042"
      },
      "outputs": [
        {
          "output_type": "execute_result",
          "data": {
            "text/plain": [
              "(TimeStep(\n",
              " {'discount': array(1., dtype=float32),\n",
              "  'observation': array([ 0.01585372,  0.21051131,  0.05565809, -0.09538303], dtype=float32),\n",
              "  'reward': array(1., dtype=float32),\n",
              "  'step_type': array(1, dtype=int32)}),\n",
              " ())"
            ]
          },
          "metadata": {},
          "execution_count": 48
        }
      ],
      "source": [
        "py_driver.PyDriver(\n",
        "    env,\n",
        "    py_tf_eager_policy.PyTFEagerPolicy(\n",
        "      random_policy, use_tf_function=True),\n",
        "    [rb_observer],\n",
        "    max_steps=initial_collect_steps).run(train_py_env.reset())"
      ]
    },
    {
      "cell_type": "code",
      "execution_count": 49,
      "metadata": {
        "id": "ba7bilizt_qW",
        "colab": {
          "base_uri": "https://localhost:8080/"
        },
        "outputId": "fe0d9a28-5b0a-414e-cda9-64f89d39f181"
      },
      "outputs": [
        {
          "output_type": "execute_result",
          "data": {
            "text/plain": [
              "<_PrefetchDataset element_spec=(Trajectory(\n",
              "{'action': TensorSpec(shape=(64, 2), dtype=tf.int64, name=None),\n",
              " 'discount': TensorSpec(shape=(64, 2), dtype=tf.float32, name=None),\n",
              " 'next_step_type': TensorSpec(shape=(64, 2), dtype=tf.int32, name=None),\n",
              " 'observation': TensorSpec(shape=(64, 2, 4), dtype=tf.float32, name=None),\n",
              " 'policy_info': (),\n",
              " 'reward': TensorSpec(shape=(64, 2), dtype=tf.float32, name=None),\n",
              " 'step_type': TensorSpec(shape=(64, 2), dtype=tf.int32, name=None)}), SampleInfo(key=TensorSpec(shape=(64, 2), dtype=tf.uint64, name=None), probability=TensorSpec(shape=(64, 2), dtype=tf.float64, name=None), table_size=TensorSpec(shape=(64, 2), dtype=tf.int64, name=None), priority=TensorSpec(shape=(64, 2), dtype=tf.float64, name=None), times_sampled=TensorSpec(shape=(64, 2), dtype=tf.int32, name=None)))>"
            ]
          },
          "metadata": {},
          "execution_count": 49
        }
      ],
      "source": [
        "# Dataset generates trajectories with shape [Bx2x...]\n",
        "dataset = replay_buffer.as_dataset(\n",
        "    num_parallel_calls=3,\n",
        "    sample_batch_size=batch_size,\n",
        "    num_steps=2).prefetch(3)\n",
        "\n",
        "dataset"
      ]
    },
    {
      "cell_type": "code",
      "execution_count": 50,
      "metadata": {
        "id": "K13AST-2ppOq",
        "colab": {
          "base_uri": "https://localhost:8080/"
        },
        "outputId": "31162b80-21e4-4859-af08-7c1151e9d664"
      },
      "outputs": [
        {
          "output_type": "stream",
          "name": "stdout",
          "text": [
            "<tensorflow.python.data.ops.iterator_ops.OwnedIterator object at 0x7f725db75990>\n"
          ]
        }
      ],
      "source": [
        "iterator = iter(dataset)\n",
        "print(iterator)"
      ]
    },
    {
      "cell_type": "code",
      "execution_count": 51,
      "metadata": {
        "id": "0pTbJ3PeyF-u",
        "colab": {
          "base_uri": "https://localhost:8080/"
        },
        "outputId": "a36fc128-828c-48b3-923c-e007d588b60f"
      },
      "outputs": [
        {
          "metadata": {
            "tags": null
          },
          "name": "stderr",
          "output_type": "stream",
          "text": [
            "WARNING:tensorflow:From /usr/local/lib/python3.10/dist-packages/tensorflow/python/util/dispatch.py:1176: calling foldr_v2 (from tensorflow.python.ops.functional_ops) with back_prop=False is deprecated and will be removed in a future version.\n",
            "Instructions for updating:\n",
            "back_prop=False is deprecated. Consider using tf.stop_gradient instead.\n",
            "Instead of:\n",
            "results = tf.foldr(fn, elems, back_prop=False)\n",
            "Use:\n",
            "results = tf.nest.map_structure(tf.stop_gradient, tf.foldr(fn, elems))\n"
          ]
        },
        {
          "output_type": "stream",
          "name": "stdout",
          "text": [
            "step = 200: loss = 11.865495681762695\n",
            "step = 400: loss = 23.807453155517578\n",
            "step = 600: loss = 26.129440307617188\n",
            "step = 800: loss = 52.082191467285156\n",
            "step = 1000: loss = 275.3790588378906\n",
            "step = 1000: Average Return = 80.5\n",
            "step = 1200: loss = 77.29102325439453\n",
            "step = 1400: loss = 43.326698303222656\n",
            "step = 1600: loss = 629.4426879882812\n",
            "step = 1800: loss = 109.145751953125\n",
            "step = 2000: loss = 34.301483154296875\n",
            "step = 2000: Average Return = 196.10000610351562\n",
            "step = 2200: loss = 208.11892700195312\n",
            "step = 2400: loss = 14.85866928100586\n",
            "step = 2600: loss = 18.956745147705078\n",
            "step = 2800: loss = 20.83051300048828\n",
            "step = 3000: loss = 258.8148193359375\n",
            "step = 3000: Average Return = 200.0\n",
            "step = 3200: loss = 54.618751525878906\n",
            "step = 3400: loss = 82.16584777832031\n",
            "step = 3600: loss = 1462.63720703125\n",
            "step = 3800: loss = 88.38595581054688\n",
            "step = 4000: loss = 110.67301940917969\n",
            "step = 4000: Average Return = 200.0\n",
            "step = 4200: loss = 114.07492065429688\n",
            "step = 4400: loss = 2524.046630859375\n",
            "step = 4600: loss = 1675.779296875\n",
            "step = 4800: loss = 17747.19921875\n",
            "step = 5000: loss = 8113.40576171875\n",
            "step = 5000: Average Return = 200.0\n",
            "step = 5200: loss = 184.24273681640625\n",
            "step = 5400: loss = 380.5081787109375\n",
            "step = 5600: loss = 537.4227294921875\n",
            "step = 5800: loss = 304.92938232421875\n",
            "step = 6000: loss = 210.79168701171875\n",
            "step = 6000: Average Return = 200.0\n",
            "step = 6200: loss = 432.8099365234375\n",
            "step = 6400: loss = 364.7853088378906\n",
            "step = 6600: loss = 3792.860595703125\n",
            "step = 6800: loss = 564.4169921875\n",
            "step = 7000: loss = 18831.2421875\n",
            "step = 7000: Average Return = 197.3000030517578\n",
            "step = 7200: loss = 34002.46484375\n",
            "step = 7400: loss = 296.0953369140625\n",
            "step = 7600: loss = 265.6148681640625\n",
            "step = 7800: loss = 9338.7685546875\n",
            "step = 8000: loss = 10870.1435546875\n",
            "step = 8000: Average Return = 198.5\n",
            "step = 8200: loss = 273.232177734375\n",
            "step = 8400: loss = 442.8135986328125\n",
            "step = 8600: loss = 413.9271240234375\n",
            "step = 8800: loss = 447.6807556152344\n",
            "step = 9000: loss = 412.00579833984375\n",
            "step = 9000: Average Return = 194.6999969482422\n",
            "step = 9200: loss = 366.2895202636719\n",
            "step = 9400: loss = 376.3606872558594\n",
            "step = 9600: loss = 345.250244140625\n",
            "step = 9800: loss = 327.73675537109375\n",
            "step = 10000: loss = 273.64703369140625\n",
            "step = 10000: Average Return = 193.0\n",
            "step = 10200: loss = 596.5309448242188\n",
            "step = 10400: loss = 263.0738830566406\n",
            "step = 10600: loss = 144.42919921875\n",
            "step = 10800: loss = 149.0609588623047\n",
            "step = 11000: loss = 95.88226318359375\n",
            "step = 11000: Average Return = 200.0\n",
            "step = 11200: loss = 391.6744079589844\n",
            "step = 11400: loss = 100.65686798095703\n",
            "step = 11600: loss = 138.48403930664062\n",
            "step = 11800: loss = 4432.14990234375\n",
            "step = 12000: loss = 89.2339859008789\n",
            "step = 12000: Average Return = 200.0\n",
            "step = 12200: loss = 174.2284393310547\n",
            "step = 12400: loss = 176.2989959716797\n",
            "step = 12600: loss = 134.73439025878906\n",
            "step = 12800: loss = 110.29619598388672\n",
            "step = 13000: loss = 451.456787109375\n",
            "step = 13000: Average Return = 200.0\n",
            "step = 13200: loss = 199.970947265625\n",
            "step = 13400: loss = 362.2672119140625\n",
            "step = 13600: loss = 243.7733917236328\n",
            "step = 13800: loss = 37765.28125\n",
            "step = 14000: loss = 851.156982421875\n",
            "step = 14000: Average Return = 200.0\n",
            "step = 14200: loss = 328.7042236328125\n",
            "step = 14400: loss = 843.5267333984375\n",
            "step = 14600: loss = 1009.0833740234375\n",
            "step = 14800: loss = 578.7608642578125\n",
            "step = 15000: loss = 731.9309692382812\n",
            "step = 15000: Average Return = 200.0\n",
            "step = 15200: loss = 754.6355590820312\n",
            "step = 15400: loss = 32410.74609375\n",
            "step = 15600: loss = 719.3328857421875\n",
            "step = 15800: loss = 159.1681671142578\n",
            "step = 16000: loss = 397.1311340332031\n",
            "step = 16000: Average Return = 200.0\n",
            "step = 16200: loss = 504.12957763671875\n",
            "step = 16400: loss = 55521.1640625\n",
            "step = 16600: loss = 52683.04296875\n",
            "step = 16800: loss = 951.8668823242188\n",
            "step = 17000: loss = 57088.3125\n",
            "step = 17000: Average Return = 200.0\n",
            "step = 17200: loss = 1017.7373046875\n",
            "step = 17400: loss = 9500.2421875\n",
            "step = 17600: loss = 372.6279602050781\n",
            "step = 17800: loss = 372.02679443359375\n",
            "step = 18000: loss = 407.46734619140625\n",
            "step = 18000: Average Return = 200.0\n",
            "step = 18200: loss = 338.7859191894531\n",
            "step = 18400: loss = 264.3487548828125\n",
            "step = 18600: loss = 413.7207946777344\n",
            "step = 18800: loss = 614.268798828125\n",
            "step = 19000: loss = 193.64462280273438\n",
            "step = 19000: Average Return = 200.0\n",
            "step = 19200: loss = 341.448486328125\n",
            "step = 19400: loss = 264.8517150878906\n",
            "step = 19600: loss = 7836.1064453125\n",
            "step = 19800: loss = 56966.77734375\n",
            "step = 20000: loss = 980.8599243164062\n",
            "step = 20000: Average Return = 200.0\n"
          ]
        }
      ],
      "source": [
        "try:\n",
        "  %%time\n",
        "except:\n",
        "  pass\n",
        "\n",
        "# (Optional) Optimize by wrapping some of the code in a graph using TF function.\n",
        "agent.train = common.function(agent.train)\n",
        "\n",
        "# Reset the train step.\n",
        "agent.train_step_counter.assign(0)\n",
        "\n",
        "# Evaluate the agent's policy once before training.\n",
        "avg_return = compute_avg_return(eval_env, agent.policy, num_eval_episodes)\n",
        "returns = [avg_return]\n",
        "\n",
        "# Reset the environment.\n",
        "time_step = train_py_env.reset()\n",
        "\n",
        "# Create a driver to collect experience.\n",
        "collect_driver = py_driver.PyDriver(\n",
        "    env,\n",
        "    py_tf_eager_policy.PyTFEagerPolicy(\n",
        "      agent.collect_policy, use_tf_function=True),\n",
        "    [rb_observer],\n",
        "    max_steps=collect_steps_per_iteration)\n",
        "\n",
        "for _ in range(num_iterations):\n",
        "\n",
        "  # Collect a few steps and save to the replay buffer.\n",
        "  time_step, _ = collect_driver.run(time_step)\n",
        "\n",
        "  # Sample a batch of data from the buffer and update the agent's network.\n",
        "  experience, unused_info = next(iterator)\n",
        "  train_loss = agent.train(experience).loss\n",
        "\n",
        "  step = agent.train_step_counter.numpy()\n",
        "\n",
        "  if step % log_interval == 0:\n",
        "    print('step = {0}: loss = {1}'.format(step, train_loss))\n",
        "\n",
        "  if step % eval_interval == 0:\n",
        "    avg_return = compute_avg_return(eval_env, agent.policy, num_eval_episodes)\n",
        "    print('step = {0}: Average Return = {1}'.format(step, avg_return))\n",
        "    returns.append(avg_return)"
      ]
    },
    {
      "cell_type": "code",
      "execution_count": 52,
      "metadata": {
        "id": "NxtL1mbOYCVO",
        "colab": {
          "base_uri": "https://localhost:8080/",
          "height": 473
        },
        "outputId": "82c3842d-1ad1-4da5-f227-81ebc036cf64"
      },
      "outputs": [
        {
          "data": {
            "text/plain": [
              "(0.7099997997283936, 250.0)"
            ]
          },
          "execution_count": 52,
          "metadata": {},
          "output_type": "execute_result"
        },
        {
          "output_type": "display_data",
          "data": {
            "text/plain": [
              "<Figure size 640x480 with 1 Axes>"
            ],
            "image/png": "[encoded data removed]"
          },
          "metadata": {}
        }
      ],
      "source": [
        "iterations = range(0, num_iterations + 1, eval_interval)\n",
        "plt.plot(iterations, returns)\n",
        "plt.ylabel('Average Return')\n",
        "plt.xlabel('Iterations')\n",
        "plt.ylim(top=250)"
      ]
    },
    {
      "cell_type": "code",
      "execution_count": 53,
      "metadata": {
        "id": "ULaGr8pvOKbl"
      },
      "outputs": [],
      "source": [
        "def embed_mp4(filename):\n",
        "  \"\"\"Embeds an mp4 file in the notebook.\"\"\"\n",
        "  video = open(filename,'rb').read()\n",
        "  b64 = base64.b64encode(video)\n",
        "  tag = '''\n",
        "  <video width=\"640\" height=\"480\" controls>\n",
        "    <source src=\"data:video/mp4;base64,{0}\" type=\"video/mp4\">\n",
        "  Your browser does not support the video tag.\n",
        "  </video>'''.format(b64.decode())\n",
        "\n",
        "  return IPython.display.HTML(tag)"
      ]
    },
    {
      "cell_type": "code",
      "execution_count": 54,
      "metadata": {
        "id": "owOVWB158NlF",
        "colab": {
          "base_uri": "https://localhost:8080/",
          "height": 539
        },
        "outputId": "4327f0f8-3a2c-4402-ede5-5cb01480a392"
      },
      "outputs": [
        {
          "output_type": "stream",
          "name": "stderr",
          "text": [
            "WARNING:root:IMAGEIO FFMPEG_WRITER WARNING: input image is not divisible by macro_block_size=16, resizing from (400, 600) to (400, 608) to ensure video compatibility with most codecs and players. To prevent resizing, make your input image divisible by the macro_block_size or set the macro_block_size to None (risking incompatibility). You may also see a FFMPEG warning concerning speedloss due to data not being aligned.\n"
          ]
        },
        {
          "output_type": "execute_result",
          "data": {
            "text/plain": [
              "<IPython.core.display.HTML object>"
            ],
            "text/html": [
              "\n",
              "  <video width=\"640\" height=\"480\" controls>\n",
              "    <source src=\"data:video/mp4;base64,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\" type=\"video/mp4\">\n",
              "  Your browser does not support the video tag.\n",
              "  </video>"
            ]
          },
          "metadata": {},
          "execution_count": 54
        }
      ],
      "source": [
        "def create_policy_eval_video(policy, filename, num_episodes=5, fps=30):\n",
        "  filename = filename + \".mp4\"\n",
        "  with imageio.get_writer(filename, fps=fps) as video:\n",
        "    for _ in range(num_episodes):\n",
        "      time_step = eval_env.reset()\n",
        "      video.append_data(eval_py_env.render())\n",
        "      while not time_step.is_last():\n",
        "        action_step = policy.action(time_step)\n",
        "        time_step = eval_env.step(action_step.action)\n",
        "        video.append_data(eval_py_env.render())\n",
        "  return embed_mp4(filename)\n",
        "\n",
        "create_policy_eval_video(agent.policy, \"trained-agent\")"
      ]
    },
    {
      "cell_type": "code",
      "execution_count": 55,
      "metadata": {
        "id": "pJZIdC37yNH4",
        "colab": {
          "base_uri": "https://localhost:8080/",
          "height": 539
        },
        "outputId": "171ce7c7-2956-4a19-8bd6-e3674d7a0f17"
      },
      "outputs": [
        {
          "output_type": "stream",
          "name": "stderr",
          "text": [
            "WARNING:root:IMAGEIO FFMPEG_WRITER WARNING: input image is not divisible by macro_block_size=16, resizing from (400, 600) to (400, 608) to ensure video compatibility with most codecs and players. To prevent resizing, make your input image divisible by the macro_block_size or set the macro_block_size to None (risking incompatibility). You may also see a FFMPEG warning concerning speedloss due to data not being aligned.\n"
          ]
        },
        {
          "output_type": "execute_result",
          "data": {
            "text/plain": [
              "<IPython.core.display.HTML object>"
            ],
            "text/html": [
              "\n",
              "  <video width=\"640\" height=\"480\" controls>\n",
              "    <source src=\"data:video/mp4;base64,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\" type=\"video/mp4\">\n",
              "  Your browser does not support the video tag.\n",
              "  </video>"
            ]
          },
          "metadata": {},
          "execution_count": 55
        }
      ],
      "source": [
        "create_policy_eval_video(random_policy, \"random-agent\")"
      ]
    }
  ],
  "metadata": {
    "colab": {
      "provenance": [],
      "toc_visible": true,
      "gpuType": "T4",
      "include_colab_link": true
    },
    "kernelspec": {
      "display_name": "Python 3",
      "language": "python",
      "name": "python3"
    },
    "pycharm": {
      "stem_cell": {
        "cell_type": "raw",
        "metadata": {
          "collapsed": false
        },
        "source": []
      }
    },
    "gpuClass": "standard",
    "accelerator": "GPU"
  },
  "nbformat": 4,
  "nbformat_minor": 0
}